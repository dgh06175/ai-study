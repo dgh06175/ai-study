{
 "cells": [
  {
   "cell_type": "code",
   "execution_count": 14,
   "id": "9af6651c-4acb-4606-822a-53d7a3e03418",
   "metadata": {},
   "outputs": [],
   "source": [
    "name = '이상현'\n",
    "id = '2019036020'"
   ]
  },
  {
   "cell_type": "code",
   "execution_count": 15,
   "id": "02666d29-8848-4a9c-9ef0-f65a8177c34c",
   "metadata": {},
   "outputs": [
    {
     "name": "stdout",
     "output_type": "stream",
     "text": [
      "이름:  이상현\n",
      "학번:  2019036020\n"
     ]
    }
   ],
   "source": [
    "print(\"Hello World!\");\n",
    "print(\"이름: \", name)\n",
    "print(\"학번: \", id)"
   ]
  },
  {
   "cell_type": "code",
   "execution_count": null,
   "id": "bad747ec-69f8-4422-80fd-360303ddf863",
   "metadata": {},
   "outputs": [],
   "source": []
  }
 ],
 "metadata": {
  "kernelspec": {
   "display_name": "Python 3 (ipykernel)",
   "language": "python",
   "name": "python3"
  },
  "language_info": {
   "codemirror_mode": {
    "name": "ipython",
    "version": 3
   },
   "file_extension": ".py",
   "mimetype": "text/x-python",
   "name": "python",
   "nbconvert_exporter": "python",
   "pygments_lexer": "ipython3",
   "version": "3.9.21"
  }
 },
 "nbformat": 4,
 "nbformat_minor": 5
}
