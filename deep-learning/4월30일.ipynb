{
 "cells": [
  {
   "metadata": {
    "ExecuteTime": {
     "end_time": "2025-04-30T08:29:34.134834Z",
     "start_time": "2025-04-30T08:29:34.127653Z"
    }
   },
   "cell_type": "code",
   "source": [
    "import numpy as np\n",
    "import matplotlib.pyplot as plt\n",
    "\n",
    "def actf(x): # Sigmoid 함수\n",
    "    return 1.0 / (1.0 + np.exp(-x))\n",
    "\n",
    "def actf_prime(x): # Sigmoid 함수의 도함수\n",
    "    return x * (1.0 - x)\n",
    "\n",
    "def actbin(x): # 0.5 기준 이진화 함수\n",
    "    x[x >= 0.5] = 1\n",
    "    x[x < 0.5] = 0\n",
    "    return x"
   ],
   "id": "c62776554eca292f",
   "outputs": [],
   "execution_count": 43
  },
  {
   "metadata": {
    "ExecuteTime": {
     "end_time": "2025-04-30T08:29:34.150378Z",
     "start_time": "2025-04-30T08:29:34.147615Z"
    }
   },
   "cell_type": "code",
   "source": [
    "def predict(X, W1, W2, b1, b2):\n",
    "    layer0 = X\n",
    "    z1 = np.dot(layer0, W1) + b1\n",
    "    layer1 = actf(z1)\n",
    "    z2 = np.dot(layer1, W2) + b2\n",
    "    layer2 = actf(z2)\n",
    "    return layer0, layer1, layer2"
   ],
   "id": "9d299c7d38235c94",
   "outputs": [],
   "execution_count": 44
  },
  {
   "metadata": {
    "ExecuteTime": {
     "end_time": "2025-04-30T08:29:34.162643Z",
     "start_time": "2025-04-30T08:29:34.159328Z"
    }
   },
   "cell_type": "code",
   "source": [
    "def fit(X, W1, W2, b1, b2, T, it_max=60000):\n",
    "    out = list()\n",
    "\n",
    "    for it in range(it_max):\n",
    "        layer0, layer1, layer2 = predict(X, W1, W2, b1, b2)\n",
    "        layer2_error = layer2 - T\n",
    "\n",
    "        out.append((layer2_error ** 2).mean())\n",
    "\n",
    "        layer2_delta = layer2_error * actf_prime(layer2)\n",
    "        layer1_error = np.dot(layer2_delta, W2.T)\n",
    "        layer1_delta = layer1_error * actf_prime(layer1)\n",
    "\n",
    "        W2 += -learning_rate * np.dot(layer1.T, layer2_delta) / 4.0\n",
    "        W1 += -learning_rate * np.dot(layer0.T, layer1_delta) / 4.0\n",
    "        b2 += -learning_rate * np.sum(layer2_delta, axis=0) / 4.0\n",
    "        b1 += -learning_rate * np.sum(layer1_delta, axis=0) / 4.0\n",
    "\n",
    "    return W1, W2, b1, b2, out"
   ],
   "id": "32b2212968be439c",
   "outputs": [],
   "execution_count": 45
  },
  {
   "metadata": {
    "ExecuteTime": {
     "end_time": "2025-04-30T08:29:34.174080Z",
     "start_time": "2025-04-30T08:29:34.171193Z"
    }
   },
   "cell_type": "code",
   "source": [
    "inputs, hiddens, outputs = 2, 2, 1\n",
    "learning_rate = 0.5\n",
    "\n",
    "# XOR\n",
    "X = np.array([[0, 0], [0, 1], [1, 0], [1, 1]])\n",
    "T = np.array([[0], [1], [1], [0]])\n",
    "\n",
    "W1 = 2 * np.random.randn(inputs, hiddens)\n",
    "W2 = 2 * np.random.randn(hiddens, outputs)\n",
    "b1 = np.zeros(hiddens)\n",
    "b2 = np.zeros(outputs)"
   ],
   "id": "91f2811bf547948d",
   "outputs": [],
   "execution_count": 46
  },
  {
   "metadata": {
    "ExecuteTime": {
     "end_time": "2025-04-30T08:29:34.515900Z",
     "start_time": "2025-04-30T08:29:34.184150Z"
    }
   },
   "cell_type": "code",
   "source": [
    "W1, W2, b1, b2, out = fit(X, W1, W2, b1, b2, T, 10000)\n",
    "print(W1, W2, b1, b2)\n",
    "_, _, layer2 = predict(X, W1, W2, b1, b2)\n",
    "print(actbin(layer2))\n",
    "\n",
    "npout = np.array(out)\n",
    "plt.figure(figsize=(6, 3))\n",
    "plt.plot(npout)\n",
    "plt.show()"
   ],
   "id": "b3c43622fe3804c",
   "outputs": [
    {
     "name": "stdout",
     "output_type": "stream",
     "text": [
      "[[-4.81027889 -5.8408639 ]\n",
      " [ 5.04413834  5.7978862 ]] [[-7.27124521]\n",
      " [ 7.49528341]] [ 2.37565521 -3.24465763] [3.39765646]\n",
      "[[0.]\n",
      " [1.]\n",
      " [1.]\n",
      " [0.]]\n"
     ]
    },
    {
     "data": {
      "text/plain": [
       "<Figure size 600x300 with 1 Axes>"
      ],
      "image/png": "[encoded data removed]"
     },
     "metadata": {},
     "output_type": "display_data"
    }
   ],
   "execution_count": 47
  }
 ],
 "metadata": {},
 "nbformat": 4,
 "nbformat_minor": 5
}
