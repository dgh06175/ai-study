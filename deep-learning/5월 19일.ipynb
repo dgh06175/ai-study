{
 "cells": [
  {
   "cell_type": "code",
   "id": "initial_id",
   "metadata": {
    "collapsed": true,
    "ExecuteTime": {
     "end_time": "2025-05-19T02:49:00.842966Z",
     "start_time": "2025-05-19T02:49:00.839762Z"
    }
   },
   "source": [
    "import cv2\n",
    "import tensorflow as tf\n",
    "import numpy as np\n",
    "from tensorflow.keras import layers"
   ],
   "outputs": [],
   "execution_count": 11
  },
  {
   "metadata": {
    "ExecuteTime": {
     "end_time": "2025-05-19T02:49:00.862168Z",
     "start_time": "2025-05-19T02:49:00.860084Z"
    }
   },
   "cell_type": "code",
   "source": [
    "input_shape = (28, 28, 1)\n",
    "num_classes = 10"
   ],
   "id": "70161e9c1ce21ee4",
   "outputs": [],
   "execution_count": 12
  },
  {
   "metadata": {
    "ExecuteTime": {
     "end_time": "2025-05-19T02:49:00.878558Z",
     "start_time": "2025-05-19T02:49:00.875012Z"
    }
   },
   "cell_type": "code",
   "source": [
    "def MyModel(input_shape):\n",
    "    inputs = layers.Input(shape=input_shape)\n",
    "\n",
    "    net = layers.Conv2D(32, 3, 1, padding='same', activation='relu')(inputs)\n",
    "    net = layers.Conv2D(32, 3, 1, padding='same', activation='relu')(net)\n",
    "    net = layers.MaxPooling2D(pool_size=(2,2))(net)\n",
    "    net = layers.Dropout(0.25)(net)\n",
    "\n",
    "    net = layers.Conv2D(32, 3, 1, padding='same', activation='relu')(net)\n",
    "    net = layers.Conv2D(32, 3, 1, padding='same', activation='relu')(net)\n",
    "    net = layers.MaxPooling2D(pool_size=(2,2))(net)\n",
    "    net = layers.Dropout(0.25)(net)\n",
    "\n",
    "    net = layers.Flatten()(net)\n",
    "    net = layers.Dense(512, activation='relu')(net)\n",
    "    net = layers.Dropout(0.25)(net)\n",
    "    net = layers.Dense(num_classes, activation='softmax')(net)\n",
    "\n",
    "    model = tf.keras.Model(inputs=inputs, outputs=net, name='test_model')\n",
    "    return model"
   ],
   "id": "a82822bbd3714419",
   "outputs": [],
   "execution_count": 13
  },
  {
   "metadata": {
    "ExecuteTime": {
     "end_time": "2025-05-19T02:49:00.925966Z",
     "start_time": "2025-05-19T02:49:00.892661Z"
    }
   },
   "cell_type": "code",
   "source": "model = MyModel(input_shape)",
   "id": "a67db424ce1db90a",
   "outputs": [],
   "execution_count": 14
  },
  {
   "metadata": {
    "ExecuteTime": {
     "end_time": "2025-05-19T02:49:01.118502Z",
     "start_time": "2025-05-19T02:49:00.956875Z"
    }
   },
   "cell_type": "code",
   "source": [
    "import numpy as np\n",
    "import tensorflow as tf\n",
    "import matplotlib.pyplot as plt\n",
    "%matplotlib inline\n",
    "\n",
    "from tensorflow.keras import datasets\n",
    "from tensorflow.keras import layers\n",
    "\n",
    "mnist = datasets.mnist\n",
    "(train_x, train_y), (test_x, test_y) = mnist.load_data()\n",
    "train_x.shape,train_y.shape, type(train_x[0]), type(train_y[0])\n",
    "\n",
    "input_shape = (28, 28, 1)  # input_shape is 3D: train_data is 4D\n",
    "num_classes = 10"
   ],
   "id": "a0058b673b274631",
   "outputs": [],
   "execution_count": 16
  },
  {
   "metadata": {
    "ExecuteTime": {
     "end_time": "2025-05-19T02:49:01.131934Z",
     "start_time": "2025-05-19T02:49:01.129360Z"
    }
   },
   "cell_type": "code",
   "source": [
    "train_x_100 = train_x[0:100]\n",
    "train_y_100 = train_y[0:100]"
   ],
   "id": "c544eac55467ba00",
   "outputs": [],
   "execution_count": 17
  },
  {
   "metadata": {
    "ExecuteTime": {
     "end_time": "2025-05-19T02:49:01.152937Z",
     "start_time": "2025-05-19T02:49:01.150109Z"
    }
   },
   "cell_type": "code",
   "source": "train_x_100.shape, train_y_100.shape",
   "id": "10a16b8c789d6474",
   "outputs": [
    {
     "data": {
      "text/plain": [
       "((100, 28, 28), (100,))"
      ]
     },
     "execution_count": 18,
     "metadata": {},
     "output_type": "execute_result"
    }
   ],
   "execution_count": 18
  },
  {
   "metadata": {},
   "cell_type": "markdown",
   "source": "### make it 4D",
   "id": "f26ece2225fd4ff"
  },
  {
   "metadata": {
    "ExecuteTime": {
     "end_time": "2025-05-19T02:49:01.187253Z",
     "start_time": "2025-05-19T02:49:01.184016Z"
    }
   },
   "cell_type": "code",
   "source": [
    "train_x_100 = train_x_100[..., tf.newaxis]\n",
    "train_x_100.shape"
   ],
   "id": "aa57cfd70c21b2bb",
   "outputs": [
    {
     "data": {
      "text/plain": [
       "(100, 28, 28, 1)"
      ]
     },
     "execution_count": 19,
     "metadata": {},
     "output_type": "execute_result"
    }
   ],
   "execution_count": 19
  },
  {
   "metadata": {},
   "cell_type": "markdown",
   "source": "### Normalize the training images",
   "id": "83516168b0b643c"
  },
  {
   "metadata": {
    "ExecuteTime": {
     "end_time": "2025-05-19T02:49:01.248844Z",
     "start_time": "2025-05-19T02:49:01.245579Z"
    }
   },
   "cell_type": "code",
   "source": [
    "train_x_100 = train_x_100 / 255.\n",
    "np.max(train_x_100)"
   ],
   "id": "4570efde486b4542",
   "outputs": [
    {
     "data": {
      "text/plain": [
       "1.0"
      ]
     },
     "execution_count": 20,
     "metadata": {},
     "output_type": "execute_result"
    }
   ],
   "execution_count": 20
  },
  {
   "metadata": {},
   "cell_type": "markdown",
   "source": "### Optimizer Setting",
   "id": "5f24ba1a5a1e85d8"
  },
  {
   "metadata": {
    "ExecuteTime": {
     "end_time": "2025-05-19T02:49:01.281009Z",
     "start_time": "2025-05-19T02:49:01.274448Z"
    }
   },
   "cell_type": "code",
   "source": [
    "model.compile(optimizer='adam',\n",
    "              loss='sparse_categorical_crossentropy',\n",
    "              metrics=['accuracy'])"
   ],
   "id": "c507e8ac52c16ffb",
   "outputs": [],
   "execution_count": 21
  },
  {
   "metadata": {},
   "cell_type": "markdown",
   "source": "### Training",
   "id": "77e31bc30767aa7a"
  },
  {
   "metadata": {
    "ExecuteTime": {
     "end_time": "2025-05-19T02:49:02.426934Z",
     "start_time": "2025-05-19T02:49:01.302293Z"
    }
   },
   "cell_type": "code",
   "source": "hist = model.fit(train_x_100, train_y_100, batch_size=32, shuffle=True, epochs=5)",
   "id": "aa03dc6feaa7a2dc",
   "outputs": [
    {
     "name": "stdout",
     "output_type": "stream",
     "text": [
      "Epoch 1/5\n",
      "\u001B[1m4/4\u001B[0m \u001B[32m━━━━━━━━━━━━━━━━━━━━\u001B[0m\u001B[37m\u001B[0m \u001B[1m1s\u001B[0m 19ms/step - accuracy: 0.1105 - loss: 2.2952 \n",
      "Epoch 2/5\n",
      "\u001B[1m4/4\u001B[0m \u001B[32m━━━━━━━━━━━━━━━━━━━━\u001B[0m\u001B[37m\u001B[0m \u001B[1m0s\u001B[0m 17ms/step - accuracy: 0.2832 - loss: 2.1740\n",
      "Epoch 3/5\n",
      "\u001B[1m4/4\u001B[0m \u001B[32m━━━━━━━━━━━━━━━━━━━━\u001B[0m\u001B[37m\u001B[0m \u001B[1m0s\u001B[0m 17ms/step - accuracy: 0.2290 - loss: 2.0427\n",
      "Epoch 4/5\n",
      "\u001B[1m4/4\u001B[0m \u001B[32m━━━━━━━━━━━━━━━━━━━━\u001B[0m\u001B[37m\u001B[0m \u001B[1m0s\u001B[0m 17ms/step - accuracy: 0.5363 - loss: 1.7212\n",
      "Epoch 5/5\n",
      "\u001B[1m4/4\u001B[0m \u001B[32m━━━━━━━━━━━━━━━━━━━━\u001B[0m\u001B[37m\u001B[0m \u001B[1m0s\u001B[0m 18ms/step - accuracy: 0.6732 - loss: 1.1727\n"
     ]
    }
   ],
   "execution_count": 22
  }
 ],
 "metadata": {
  "kernelspec": {
   "display_name": "Python 3",
   "language": "python",
   "name": "python3"
  },
  "language_info": {
   "codemirror_mode": {
    "name": "ipython",
    "version": 2
   },
   "file_extension": ".py",
   "mimetype": "text/x-python",
   "name": "python",
   "nbconvert_exporter": "python",
   "pygments_lexer": "ipython2",
   "version": "2.7.6"
  }
 },
 "nbformat": 4,
 "nbformat_minor": 5
}
