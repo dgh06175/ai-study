{
 "cells": [
  {
   "cell_type": "code",
   "execution_count": null,
   "id": "initial_id",
   "metadata": {
    "collapsed": true
   },
   "outputs": [],
   "source": [
    "import tensorflow as tf\n",
    "import numpy as np\n",
    "import matplotlib.pyplot as plt\n",
    "import os\n",
    "\n"
   ]
  },
  {
   "metadata": {
    "ExecuteTime": {
     "end_time": "2025-05-28T10:05:08.977198Z",
     "start_time": "2025-05-28T10:04:48.206256Z"
    }
   },
   "cell_type": "code",
   "source": [
    "import numpy as np\n",
    "import time\n",
    "\n",
    "# 10000 x 10000 배열 생성\n",
    "array = np.random.rand(10000, 10000)\n",
    "\n",
    "# 가로로 순회 (row-major order)\n",
    "start_horizontal = time.time()\n",
    "for i in range(array.shape[0]):\n",
    "    for j in range(array.shape[1]):\n",
    "        _ = array[i][j]\n",
    "end_horizontal = time.time()\n",
    "\n",
    "# 세로로 순회 (column-major order)\n",
    "start_vertical = time.time()\n",
    "for j in range(array.shape[1]):\n",
    "    for i in range(array.shape[0]):\n",
    "        _ = array[i][j]\n",
    "end_vertical = time.time()\n",
    "\n",
    "horizontal_time = end_horizontal - start_horizontal\n",
    "vertical_time = end_vertical - start_vertical\n",
    "\n",
    "horizontal_time, vertical_time\n"
   ],
   "id": "4b875f27a7e96e22",
   "outputs": [
    {
     "data": {
      "text/plain": [
       "(9.964513063430786, 10.41231894493103)"
      ]
     },
     "execution_count": 3,
     "metadata": {},
     "output_type": "execute_result"
    }
   ],
   "execution_count": 3
  },
  {
   "metadata": {
    "ExecuteTime": {
     "end_time": "2025-05-28T10:06:07.452797Z",
     "start_time": "2025-05-28T10:06:04.699553Z"
    }
   },
   "cell_type": "code",
   "source": [
    "import time\n",
    "\n",
    "SIZE = 5000\n",
    "\n",
    "# SIZE x SIZE 배열 생성\n",
    "array = [[0] * SIZE for _ in range(SIZE)]\n",
    "\n",
    "# 가로 순회\n",
    "start = time.time()\n",
    "for i in range(SIZE):\n",
    "    for j in range(SIZE):\n",
    "        _ = array[i][j]\n",
    "print(\"가로 순회:\", time.time() - start)\n",
    "\n",
    "# 세로 순회\n",
    "start = time.time()\n",
    "for j in range(SIZE):\n",
    "    for i in range(SIZE):\n",
    "        _ = array[i][j]\n",
    "print(\"세로 순회:\", time.time() - start)\n"
   ],
   "id": "2a468789251e2fd4",
   "outputs": [
    {
     "name": "stdout",
     "output_type": "stream",
     "text": [
      "가로 순회: 0.9358780384063721\n",
      "세로 순회: 1.7411630153656006\n"
     ]
    }
   ],
   "execution_count": 11
  },
  {
   "metadata": {},
   "cell_type": "code",
   "outputs": [],
   "execution_count": null,
   "source": "",
   "id": "7c0fb9330c2f7dd7"
  },
  {
   "metadata": {
    "ExecuteTime": {
     "end_time": "2025-05-30T04:00:59.479698Z",
     "start_time": "2025-05-30T04:00:59.474763Z"
    }
   },
   "cell_type": "code",
   "source": [
    "result = chr(2**3*2**3 + 2**3*2**2 + 2**2) + \\\n",
    "         chr(2**3*2**3 + 2**3*2**2 + 2**2 + 2 + 2//2) + \\\n",
    "         chr(2**3*2**3 + 2**3*2**2 + 2**3) + \\\n",
    "         chr(2**3*2**2 + 2**2*2**2) + \\\n",
    "         chr(2**3*2**2 + 2**2*2**2 + 2**2 + 2) + \\\n",
    "         chr(2**3*2**2 + 2**2*2**2 + 2//2) + \\\n",
    "         chr(2**3*2**2 + 2**2*2**2 + 2**2 + 2 + 2//2) + \\\n",
    "         chr(2**3*2**2 + 2**2*2**2 + 2**2 + 2//2)\n",
    "\n",
    "print(result)"
   ],
   "id": "7d114b5c1cb50f3",
   "outputs": [
    {
     "name": "stdout",
     "output_type": "stream",
     "text": [
      "dgh06175\n"
     ]
    }
   ],
   "execution_count": 3
  },
  {
   "metadata": {},
   "cell_type": "code",
   "outputs": [],
   "execution_count": null,
   "source": "",
   "id": "5f56630482daf3f4"
  }
 ],
 "metadata": {
  "kernelspec": {
   "display_name": "Python 3",
   "language": "python",
   "name": "python3"
  },
  "language_info": {
   "codemirror_mode": {
    "name": "ipython",
    "version": 2
   },
   "file_extension": ".py",
   "mimetype": "text/x-python",
   "name": "python",
   "nbconvert_exporter": "python",
   "pygments_lexer": "ipython2",
   "version": "2.7.6"
  }
 },
 "nbformat": 4,
 "nbformat_minor": 5
}
