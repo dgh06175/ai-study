{
 "cells": [
  {
   "cell_type": "code",
   "id": "bfb4d52cc652d7ae",
   "metadata": {
    "ExecuteTime": {
     "end_time": "2025-05-12T02:23:20.190003Z",
     "start_time": "2025-05-12T02:23:15.694025Z"
    }
   },
   "source": [
    "import numpy as np\n",
    "import tensorflow as tf\n",
    "import matplotlib.pyplot as plt\n",
    "%matplotlib inline"
   ],
   "outputs": [],
   "execution_count": 2
  },
  {
   "cell_type": "code",
   "id": "9e77563b5ef164e7",
   "metadata": {
    "ExecuteTime": {
     "end_time": "2025-05-12T02:23:20.205219Z",
     "start_time": "2025-05-12T02:23:20.201566Z"
    }
   },
   "source": [
    "from tensorflow.keras import datasets"
   ],
   "outputs": [],
   "execution_count": 3
  },
  {
   "cell_type": "code",
   "id": "ccf2dd13e5796c89",
   "metadata": {
    "ExecuteTime": {
     "end_time": "2025-05-12T02:23:20.217198Z",
     "start_time": "2025-05-12T02:23:20.214966Z"
    }
   },
   "source": [
    "mnist = datasets.mnist"
   ],
   "outputs": [],
   "execution_count": 4
  },
  {
   "cell_type": "code",
   "id": "4c5ca88ec547908e",
   "metadata": {
    "ExecuteTime": {
     "end_time": "2025-05-12T02:23:20.389303Z",
     "start_time": "2025-05-12T02:23:20.227291Z"
    }
   },
   "source": [
    "# train : 학습용, test: 검증용\n",
    "# x: 이미지,  y: 정답\n",
    "(train_x, train_y), (test_x, test_y) = datasets.mnist.load_data()"
   ],
   "outputs": [],
   "execution_count": 5
  },
  {
   "cell_type": "code",
   "id": "ed18e4ba3869a5a7",
   "metadata": {
    "ExecuteTime": {
     "end_time": "2025-05-12T02:23:20.410252Z",
     "start_time": "2025-05-12T02:23:20.405212Z"
    }
   },
   "source": [
    "train_x.shape, train_y.shape, type(train_x[0]), type(train_y[0])"
   ],
   "outputs": [
    {
     "data": {
      "text/plain": [
       "((60000, 28, 28), (60000,), numpy.ndarray, numpy.uint8)"
      ]
     },
     "execution_count": 6,
     "metadata": {},
     "output_type": "execute_result"
    }
   ],
   "execution_count": 6
  },
  {
   "cell_type": "code",
   "id": "2482edacfb72cbe3",
   "metadata": {
    "ExecuteTime": {
     "end_time": "2025-05-12T02:23:20.659425Z",
     "start_time": "2025-05-12T02:23:20.583585Z"
    }
   },
   "source": [
    "train_y\n",
    "plt.imshow(train_x[0], 'gray')\n",
    "plt.show()\n",
    "train_y[0]"
   ],
   "outputs": [
    {
     "data": {
      "text/plain": [
       "<Figure size 640x480 with 1 Axes>"
      ],
      "image/png": "[encoded data removed]"
     },
     "metadata": {},
     "output_type": "display_data"
    },
    {
     "data": {
      "text/plain": [
       "5"
      ]
     },
     "execution_count": 7,
     "metadata": {},
     "output_type": "execute_result"
    }
   ],
   "execution_count": 7
  },
  {
   "cell_type": "code",
   "id": "254c6139f4d2045d",
   "metadata": {
    "ExecuteTime": {
     "end_time": "2025-05-12T02:23:20.676690Z",
     "start_time": "2025-05-12T02:23:20.672713Z"
    }
   },
   "source": [
    "# 이미지 데이터 차원 확장 (batch, height, width, channel)\n",
    "image = train_x[0:8]\n",
    "image.shape"
   ],
   "outputs": [
    {
     "data": {
      "text/plain": [
       "(8, 28, 28)"
      ]
     },
     "execution_count": 8,
     "metadata": {},
     "output_type": "execute_result"
    }
   ],
   "execution_count": 8
  },
  {
   "cell_type": "code",
   "id": "e3f8acda967ef8b9",
   "metadata": {
    "ExecuteTime": {
     "end_time": "2025-05-12T02:23:20.724950Z",
     "start_time": "2025-05-12T02:23:20.720786Z"
    }
   },
   "source": [
    "#image4 = np.expand_dims(image, -1)  # (8, 28, 28, 1)\n",
    "image8 = image[..., tf.newaxis]\n",
    "image8.shape, type(image8)"
   ],
   "outputs": [
    {
     "data": {
      "text/plain": [
       "((8, 28, 28, 1), numpy.ndarray)"
      ]
     },
     "execution_count": 9,
     "metadata": {},
     "output_type": "execute_result"
    }
   ],
   "execution_count": 9
  },
  {
   "cell_type": "code",
   "id": "4657a8d61a347dd4",
   "metadata": {
    "ExecuteTime": {
     "end_time": "2025-05-12T02:23:20.782848Z",
     "start_time": "2025-05-12T02:23:20.779071Z"
    }
   },
   "source": [
    "img = train_x[0]\n",
    "img.shape, type(img)"
   ],
   "outputs": [
    {
     "data": {
      "text/plain": [
       "((28, 28), numpy.ndarray)"
      ]
     },
     "execution_count": 10,
     "metadata": {},
     "output_type": "execute_result"
    }
   ],
   "execution_count": 10
  },
  {
   "cell_type": "code",
   "id": "d1b6657e5dcc2c7a",
   "metadata": {
    "ExecuteTime": {
     "end_time": "2025-05-12T02:23:20.838081Z",
     "start_time": "2025-05-12T02:23:20.834547Z"
    }
   },
   "source": [
    "img_prime = img[tf.newaxis, ..., tf.newaxis]\n",
    "img_prime.shape"
   ],
   "outputs": [
    {
     "data": {
      "text/plain": [
       "(1, 28, 28, 1)"
      ]
     },
     "execution_count": 11,
     "metadata": {},
     "output_type": "execute_result"
    }
   ],
   "execution_count": 11
  },
  {
   "cell_type": "markdown",
   "id": "3344b73622c3de64",
   "metadata": {},
   "source": [
    "## Layer construction & feeding images to the layer"
   ]
  },
  {
   "cell_type": "code",
   "id": "39c3492b70d50f56",
   "metadata": {
    "ExecuteTime": {
     "end_time": "2025-05-12T02:23:20.900520Z",
     "start_time": "2025-05-12T02:23:20.894637Z"
    }
   },
   "source": [
    "# filters:\n",
    "layer = tf.keras.layers.Conv2D(filters=3, kernel_size=(3,3), strides=(1,1), padding='SAME', activation='relu')\n",
    "image8.dtype"
   ],
   "outputs": [
    {
     "data": {
      "text/plain": [
       "dtype('uint8')"
      ]
     },
     "execution_count": 12,
     "metadata": {},
     "output_type": "execute_result"
    }
   ],
   "execution_count": 12
  },
  {
   "cell_type": "code",
   "id": "b82150ba5b0a8915",
   "metadata": {
    "ExecuteTime": {
     "end_time": "2025-05-12T02:23:20.956746Z",
     "start_time": "2025-05-12T02:23:20.945121Z"
    }
   },
   "source": [
    "image8 = tf.cast(image8, dtype=tf.float32)\n",
    "image8.dtype"
   ],
   "outputs": [
    {
     "data": {
      "text/plain": [
       "tf.float32"
      ]
     },
     "execution_count": 13,
     "metadata": {},
     "output_type": "execute_result"
    }
   ],
   "execution_count": 13
  },
  {
   "cell_type": "code",
   "id": "5fe961dce454f178",
   "metadata": {
    "ExecuteTime": {
     "end_time": "2025-05-12T02:23:21.019375Z",
     "start_time": "2025-05-12T02:23:21.003935Z"
    }
   },
   "source": [
    "output = layer(image8)\n",
    "output.shape"
   ],
   "outputs": [
    {
     "data": {
      "text/plain": [
       "TensorShape([8, 28, 28, 3])"
      ]
     },
     "execution_count": 14,
     "metadata": {},
     "output_type": "execute_result"
    }
   ],
   "execution_count": 14
  },
  {
   "cell_type": "code",
   "id": "53b66e1a6e91800d",
   "metadata": {
    "ExecuteTime": {
     "end_time": "2025-05-12T02:23:21.258534Z",
     "start_time": "2025-05-12T02:23:21.062352Z"
    }
   },
   "source": [
    "plt.subplot(2,4,1), plt.imshow(output[0,:,:,0],'gray')\n",
    "plt.subplot(2,4,2), plt.imshow(output[1,:,:,0],'gray')\n",
    "plt.subplot(2,4,3), plt.imshow(output[2,:,:,0],'gray')\n",
    "plt.subplot(2,4,4), plt.imshow(output[3,:,:,0],'gray')\n",
    "plt.subplot(2,4,5), plt.imshow(output[4,:,:,0],'gray')\n",
    "plt.subplot(2,4,6), plt.imshow(output[5,:,:,0],'gray')\n",
    "plt.subplot(2,4,7), plt.imshow(output[6,:,:,0],'gray')\n",
    "plt.subplot(2,4,8), plt.imshow(output[7,:,:,0],'gray')\n",
    "plt.show()"
   ],
   "outputs": [
    {
     "data": {
      "text/plain": [
       "<Figure size 640x480 with 8 Axes>"
      ],
      "image/png": "[encoded data removed]"
     },
     "metadata": {},
     "output_type": "display_data"
    }
   ],
   "execution_count": 15
  },
  {
   "cell_type": "code",
   "id": "4d1833272895526d",
   "metadata": {
    "ExecuteTime": {
     "end_time": "2025-05-12T02:23:21.473321Z",
     "start_time": "2025-05-12T02:23:21.278199Z"
    }
   },
   "source": [
    "plt.subplot(2,4,1), plt.imshow(output[0,:,:,1],'gray')\n",
    "plt.subplot(2,4,2), plt.imshow(output[1,:,:,1],'gray')\n",
    "plt.subplot(2,4,3), plt.imshow(output[2,:,:,1],'gray')\n",
    "plt.subplot(2,4,4), plt.imshow(output[3,:,:,1],'gray')\n",
    "plt.subplot(2,4,5), plt.imshow(output[4,:,:,1],'gray')\n",
    "plt.subplot(2,4,6), plt.imshow(output[5,:,:,1],'gray')\n",
    "plt.subplot(2,4,7), plt.imshow(output[6,:,:,1],'gray')\n",
    "plt.subplot(2,4,8), plt.imshow(output[7,:,:,1],'gray')\n",
    "plt.show()"
   ],
   "outputs": [
    {
     "data": {
      "text/plain": [
       "<Figure size 640x480 with 8 Axes>"
      ],
      "image/png": "[encoded data removed]"
     },
     "metadata": {},
     "output_type": "display_data"
    }
   ],
   "execution_count": 16
  },
  {
   "cell_type": "code",
   "id": "a856166febf97910",
   "metadata": {
    "ExecuteTime": {
     "end_time": "2025-05-12T02:23:21.679988Z",
     "start_time": "2025-05-12T02:23:21.487256Z"
    }
   },
   "source": [
    "plt.subplot(2,4,1), plt.imshow(output[0,:,:,2],'gray')\n",
    "plt.subplot(2,4,2), plt.imshow(output[1,:,:,2],'gray')\n",
    "plt.subplot(2,4,3), plt.imshow(output[2,:,:,2],'gray')\n",
    "plt.subplot(2,4,4), plt.imshow(output[3,:,:,2],'gray')\n",
    "plt.subplot(2,4,5), plt.imshow(output[4,:,:,2],'gray')\n",
    "plt.subplot(2,4,6), plt.imshow(output[5,:,:,2],'gray')\n",
    "plt.subplot(2,4,7), plt.imshow(output[6,:,:,2],'gray')\n",
    "plt.subplot(2,4,8), plt.imshow(output[7,:,:,2],'gray')\n",
    "plt.show()"
   ],
   "outputs": [
    {
     "data": {
      "text/plain": [
       "<Figure size 640x480 with 8 Axes>"
      ],
      "image/png": "[encoded data removed]"
     },
     "metadata": {},
     "output_type": "display_data"
    }
   ],
   "execution_count": 17
  },
  {
   "cell_type": "code",
   "id": "c3ee50432360594b",
   "metadata": {
    "ExecuteTime": {
     "end_time": "2025-05-12T02:23:21.712337Z",
     "start_time": "2025-05-12T02:23:21.707299Z"
    }
   },
   "source": [
    "weight = layer.get_weights()"
   ],
   "outputs": [],
   "execution_count": 18
  },
  {
   "cell_type": "code",
   "id": "11d6b44c6a9ac43b",
   "metadata": {
    "ExecuteTime": {
     "end_time": "2025-05-12T02:23:21.746938Z",
     "start_time": "2025-05-12T02:23:21.743525Z"
    }
   },
   "source": [
    "weight[0].shape, weight[1].shape"
   ],
   "outputs": [
    {
     "data": {
      "text/plain": [
       "((3, 3, 1, 3), (3,))"
      ]
     },
     "execution_count": 19,
     "metadata": {},
     "output_type": "execute_result"
    }
   ],
   "execution_count": 19
  },
  {
   "cell_type": "code",
   "id": "9c843187cc8f25b9",
   "metadata": {
    "ExecuteTime": {
     "end_time": "2025-05-12T02:23:21.836895Z",
     "start_time": "2025-05-12T02:23:21.833299Z"
    }
   },
   "source": "weight[0][:, :, 0, 0] # 1st filter",
   "outputs": [
    {
     "data": {
      "text/plain": [
       "array([[-0.20455602, -0.34958386,  0.05600607],\n",
       "       [-0.21215567,  0.07049668, -0.3498556 ],\n",
       "       [ 0.24717557, -0.10342029,  0.11534369]], dtype=float32)"
      ]
     },
     "execution_count": 20,
     "metadata": {},
     "output_type": "execute_result"
    }
   ],
   "execution_count": 20
  },
  {
   "cell_type": "code",
   "id": "2b224bc47556a26f",
   "metadata": {
    "ExecuteTime": {
     "end_time": "2025-05-12T02:23:21.914404Z",
     "start_time": "2025-05-12T02:23:21.910642Z"
    }
   },
   "source": [
    "weight[0][:, :, 0, 1]"
   ],
   "outputs": [
    {
     "data": {
      "text/plain": [
       "array([[ 0.16765183,  0.37702948,  0.37263447],\n",
       "       [ 0.14490509, -0.38940582,  0.07942161],\n",
       "       [-0.0041762 ,  0.11645067, -0.20731671]], dtype=float32)"
      ]
     },
     "execution_count": 21,
     "metadata": {},
     "output_type": "execute_result"
    }
   ],
   "execution_count": 21
  },
  {
   "cell_type": "code",
   "id": "aa563c63ef39f6a4",
   "metadata": {
    "ExecuteTime": {
     "end_time": "2025-05-12T02:23:22.332041Z",
     "start_time": "2025-05-12T02:23:22.327537Z"
    }
   },
   "source": "weight[0][:, :, 0, 2], weight[1][2] # index 2번째 필터, 3rd filter",
   "outputs": [
    {
     "data": {
      "text/plain": [
       "(array([[-0.3303045 ,  0.21525699,  0.22722316],\n",
       "        [ 0.22068638,  0.22393376, -0.38734564],\n",
       "        [-0.3859117 , -0.19338112,  0.01707345]], dtype=float32),\n",
       " 0.0)"
      ]
     },
     "execution_count": 22,
     "metadata": {},
     "output_type": "execute_result"
    }
   ],
   "execution_count": 22
  },
  {
   "cell_type": "code",
   "id": "ddbd9f936aec2196",
   "metadata": {
    "ExecuteTime": {
     "end_time": "2025-05-12T02:23:22.597922Z",
     "start_time": "2025-05-12T02:23:22.594459Z"
    }
   },
   "source": [
    "weight[1]"
   ],
   "outputs": [
    {
     "data": {
      "text/plain": [
       "array([0., 0., 0.], dtype=float32)"
      ]
     },
     "execution_count": 23,
     "metadata": {},
     "output_type": "execute_result"
    }
   ],
   "execution_count": 23
  },
  {
   "cell_type": "code",
   "id": "initial_id",
   "metadata": {
    "ExecuteTime": {
     "end_time": "2025-05-12T02:23:22.863400Z",
     "start_time": "2025-05-12T02:23:22.748345Z"
    }
   },
   "source": [
    "\n",
    "\n",
    "# 활성화 레이어(ReLU) 분리 구현 예시\n",
    "act_layer = tf.keras.layers.ReLU()\n",
    "act_output = act_layer(output)\n",
    "\n",
    "# MaxPooling2D 예시\n",
    "pool_layer = tf.keras.layers.MaxPool2D()\n",
    "pool_output = pool_layer(act_output)\n",
    "print(pool_output.shape)  # (1, 14, 14, 3)\n",
    "\n",
    "# Flatten 레이어 예시\n",
    "flatten_layer = tf.keras.layers.Flatten()\n",
    "flatten = flatten_layer(pool_output)\n",
    "print(flatten.shape)  # (1, 588)\n",
    "\n",
    "# Flatten 데이터 시각화\n",
    "plt.figure(figsize=(10, 5))\n",
    "plt.subplot(211)\n",
    "plt.hist(flatten.numpy().ravel())\n",
    "plt.subplot(212)\n",
    "plt.imshow(flatten[:, :100], 'jet')\n",
    "plt.colorbar()\n",
    "plt.show()\n"
   ],
   "outputs": [
    {
     "name": "stdout",
     "output_type": "stream",
     "text": [
      "(8, 14, 14, 3)\n",
      "(8, 588)\n"
     ]
    },
    {
     "data": {
      "text/plain": [
       "<Figure size 1000x500 with 3 Axes>"
      ],
      "image/png": "[encoded data removed]"
     },
     "metadata": {},
     "output_type": "display_data"
    }
   ],
   "execution_count": 24
  }
 ],
 "metadata": {
  "kernelspec": {
   "display_name": "Python 3 (ipykernel)",
   "language": "python",
   "name": "python3"
  },
  "language_info": {
   "codemirror_mode": {
    "name": "ipython",
    "version": 3
   },
   "file_extension": ".py",
   "mimetype": "text/x-python",
   "name": "python",
   "nbconvert_exporter": "python",
   "pygments_lexer": "ipython3",
   "version": "3.9.21"
  }
 },
 "nbformat": 4,
 "nbformat_minor": 5
}
