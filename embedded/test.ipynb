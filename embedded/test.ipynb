{
 "cells": [
  {
   "metadata": {
    "ExecuteTime": {
     "end_time": "2025-04-22T12:09:06.412432Z",
     "start_time": "2025-04-22T12:09:06.409065Z"
    }
   },
   "cell_type": "code",
   "source": [
    "import numpy as np\n",
    "from sklearn.linear_model import LinearRegression"
   ],
   "id": "106a0a1f7ecd2add",
   "outputs": [],
   "execution_count": 115
  },
  {
   "metadata": {},
   "cell_type": "markdown",
   "source": "# 회귀",
   "id": "649af7bfc7f364f6"
  },
  {
   "metadata": {
    "ExecuteTime": {
     "end_time": "2025-04-22T12:09:06.439506Z",
     "start_time": "2025-04-22T12:09:06.435286Z"
    }
   },
   "cell_type": "code",
   "source": [
    "x = np.array([[1], [11], [21], [31], [41]])\n",
    "y = np.array([100, 67, 43, 21, 0])\n",
    "\n",
    "model = LinearRegression()\n",
    "\n",
    "model.fit(x, y)\n",
    "print(x.shape)\n",
    "print(y.shape)\n",
    "y_pred = model.predict(x)\n",
    "\n",
    "print(y_pred)\n",
    "print(model.coef_)"
   ],
   "id": "e07a4e666290d88b",
   "outputs": [
    {
     "name": "stdout",
     "output_type": "stream",
     "text": [
      "(5, 1)\n",
      "(5,)\n",
      "[95.4 70.8 46.2 21.6 -3. ]\n",
      "[-2.46]\n"
     ]
    }
   ],
   "execution_count": 116
  },
  {
   "metadata": {},
   "cell_type": "markdown",
   "source": "# 다중 선형 회귀 및 평가",
   "id": "cf1169cdfc20417f"
  },
  {
   "metadata": {
    "ExecuteTime": {
     "end_time": "2025-04-22T12:09:06.483605Z",
     "start_time": "2025-04-22T12:09:06.482046Z"
    }
   },
   "cell_type": "code",
   "source": "from sklearn.metrics import mean_squared_error, mean_absolute_error",
   "id": "774d5f7db9b93514",
   "outputs": [],
   "execution_count": 117
  },
  {
   "metadata": {
    "ExecuteTime": {
     "end_time": "2025-04-22T12:09:06.496685Z",
     "start_time": "2025-04-22T12:09:06.494875Z"
    }
   },
   "cell_type": "code",
   "source": [
    "np.random.seed(0)\n",
    "X1 = 2 * np.random.rand(100, 1)\n",
    "X2 = 3 * np.random.rand(100, 1)\n",
    "Y = 4 + 3 * X1 + 2 * X2 + np.random.rand(100, 1)"
   ],
   "id": "35c0ce8639c030ad",
   "outputs": [],
   "execution_count": 118
  },
  {
   "metadata": {
    "ExecuteTime": {
     "end_time": "2025-04-22T12:09:06.510201Z",
     "start_time": "2025-04-22T12:09:06.508051Z"
    }
   },
   "cell_type": "code",
   "source": [
    "model = LinearRegression()\n",
    "X = np.hstack((X1, X2))\n",
    "model.fit(X, Y)\n",
    "pass"
   ],
   "id": "995fd812d81c52a5",
   "outputs": [],
   "execution_count": 119
  },
  {
   "metadata": {
    "ExecuteTime": {
     "end_time": "2025-04-22T12:09:06.526022Z",
     "start_time": "2025-04-22T12:09:06.523195Z"
    }
   },
   "cell_type": "code",
   "source": [
    "print('회귀 계수 (기울기): ', model.coef_)\n",
    "print('절편:', model.intercept_[0])\n",
    "# mse, mae 등 평가\n",
    "pred = model.predict(X)\n",
    "print(Y.shape)\n",
    "print(pred.shape)\n",
    "mse = mean_squared_error(Y, pred)\n",
    "print('MSE: ', mse)\n",
    "print('RMSE: ', np.sqrt(mse))\n",
    "\n",
    "mae = mean_absolute_error(Y, pred)\n",
    "print('MAE: ', mae)"
   ],
   "id": "90c350bed542f90b",
   "outputs": [
    {
     "name": "stdout",
     "output_type": "stream",
     "text": [
      "회귀 계수 (기울기):  [[2.97650348 1.95384044]]\n",
      "절편: 4.604978060028826\n",
      "(100, 1)\n",
      "(100, 1)\n",
      "MSE:  0.08942807519612178\n",
      "RMSE:  0.2990452728202233\n",
      "MAE:  0.2607195082665134\n"
     ]
    }
   ],
   "execution_count": 120
  },
  {
   "metadata": {
    "ExecuteTime": {
     "end_time": "2025-04-22T12:09:06.628877Z",
     "start_time": "2025-04-22T12:09:06.537859Z"
    }
   },
   "cell_type": "code",
   "source": [
    "import pandas as pd\n",
    "import matplotlib.pyplot as plt\n",
    "from sklearn.model_selection import train_test_split\n",
    "from sklearn.ensemble import RandomForestClassifier\n",
    "from sklearn.datasets import load_iris\n",
    "from sklearn.neighbors import KNeighborsClassifier\n",
    "from sklearn.metrics import accuracy_score, classification_report, roc_auc_score\n",
    "from sklearn.preprocessing import label_binarize\n",
    "\n",
    "# 데이터셋 로드\n",
    "iris = load_iris()\n",
    "X, Y = iris.data, iris.target\n",
    "\n",
    "# 학습/테스트 데이터 분할 (70%:30%)\n",
    "X_train, X_test, y_train, y_test = train_test_split(X, Y, test_size=0.3, random_state=42)\n",
    "\n",
    "# Random Forest 모델 학습 및 평가\n",
    "clf = RandomForestClassifier(n_estimators=100, random_state=42)\n",
    "clf.fit(X_train, y_train)\n",
    "y_pred = clf.predict(X_test)\n",
    "accuracy_rf = accuracy_score(y_test, y_pred)\n",
    "print(\"Random Forest Accuracy:\", accuracy_rf)\n",
    "print(\"Random Forest 분류 결과:\")\n",
    "print(classification_report(y_test, y_pred))\n",
    "\n",
    "# KNN 모델 학습 및 평가\n",
    "knn = KNeighborsClassifier(n_neighbors=5)\n",
    "knn.fit(X_train, y_train)\n",
    "y_pred_knn = knn.predict(X_test)\n",
    "accuracy_knn = accuracy_score(y_test, y_pred_knn)\n",
    "print(\"KNN Accuracy:\", accuracy_knn)\n",
    "print(\"KNN 분류 결과:\")\n",
    "print(classification_report(y_test, y_pred_knn))\n",
    "\n",
    "# AUC 평가를 위해 라벨 이진화 (One-vs-Rest)\n",
    "classes = [0, 1, 2]\n",
    "y_test_bin = label_binarize(y_test, classes=classes)\n",
    "\n",
    "# Random Forest의 확률 예측값을 이용해 AUC 계산\n",
    "y_score_rf = clf.predict_proba(X_test)\n",
    "auc_rf = roc_auc_score(y_test_bin, y_score_rf, average='macro', multi_class='ovr')\n",
    "print(f\"Random Forest AUC: {auc_rf:.4f}\")\n",
    "\n",
    "# KNN의 확률 예측값을 이용해 AUC 계산\n",
    "y_score_knn = knn.predict_proba(X_test)\n",
    "auc_knn = roc_auc_score(y_test_bin, y_score_knn, average='macro', multi_class='ovr')\n",
    "print(f\"KNN AUC: {auc_knn:.4f}\")\n",
    "\n",
    "# Random Forest 특성 중요도 시각화\n",
    "feature_importance = clf.feature_importances_\n",
    "plt.figure(figsize=(8, 5))\n",
    "plt.barh(iris.feature_names, feature_importance, color='skyblue')\n",
    "plt.xlabel('Feature Importance')\n",
    "plt.ylabel('Features')\n",
    "plt.title('Random Forest Feature Importance')\n",
    "plt.show()\n"
   ],
   "id": "448152ae63bdc79e",
   "outputs": [
    {
     "name": "stdout",
     "output_type": "stream",
     "text": [
      "Random Forest Accuracy: 1.0\n",
      "Random Forest 분류 결과:\n",
      "              precision    recall  f1-score   support\n",
      "\n",
      "           0       1.00      1.00      1.00        19\n",
      "           1       1.00      1.00      1.00        13\n",
      "           2       1.00      1.00      1.00        13\n",
      "\n",
      "    accuracy                           1.00        45\n",
      "   macro avg       1.00      1.00      1.00        45\n",
      "weighted avg       1.00      1.00      1.00        45\n",
      "\n",
      "KNN Accuracy: 1.0\n",
      "KNN 분류 결과:\n",
      "              precision    recall  f1-score   support\n",
      "\n",
      "           0       1.00      1.00      1.00        19\n",
      "           1       1.00      1.00      1.00        13\n",
      "           2       1.00      1.00      1.00        13\n",
      "\n",
      "    accuracy                           1.00        45\n",
      "   macro avg       1.00      1.00      1.00        45\n",
      "weighted avg       1.00      1.00      1.00        45\n",
      "\n",
      "Random Forest AUC: 1.0000\n",
      "KNN AUC: 1.0000\n"
     ]
    },
    {
     "data": {
      "text/plain": [
       "<Figure size 800x500 with 1 Axes>"
      ],
      "image/png": "[encoded data removed]"
     },
     "metadata": {},
     "output_type": "display_data"
    }
   ],
   "execution_count": 121
  },
  {
   "metadata": {
    "ExecuteTime": {
     "end_time": "2025-04-22T12:09:06.648089Z",
     "start_time": "2025-04-22T12:09:06.646805Z"
    }
   },
   "cell_type": "code",
   "source": "",
   "id": "8ed3861b740cf041",
   "outputs": [],
   "execution_count": null
  }
 ],
 "metadata": {},
 "nbformat": 4,
 "nbformat_minor": 5
}
